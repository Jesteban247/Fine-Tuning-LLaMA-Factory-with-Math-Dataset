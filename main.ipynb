{
  "nbformat": 4,
  "nbformat_minor": 0,
  "metadata": {
    "colab": {
      "provenance": [],
      "gpuType": "T4",
      "authorship_tag": "ABX9TyOs7e1F+QnjpZJK+V/+1r1r",
      "include_colab_link": true
    },
    "kernelspec": {
      "name": "python3",
      "display_name": "Python 3"
    },
    "language_info": {
      "name": "python"
    },
    "accelerator": "GPU"
  },
  "cells": [
    {
      "cell_type": "markdown",
      "metadata": {
        "id": "view-in-github",
        "colab_type": "text"
      },
      "source": [
        "<a href=\"https://colab.research.google.com/github/Jesteban247/Fine-Tuning-LLaMA-Factory-with-Math-Dataset/blob/main/main.ipynb\" target=\"_parent\"><img src=\"https://colab.research.google.com/assets/colab-badge.svg\" alt=\"Open In Colab\"/></a>"
      ]
    },
    {
      "cell_type": "markdown",
      "source": [
        "# Install Dependencies"
      ],
      "metadata": {
        "id": "G20LuP57slyj"
      }
    },
    {
      "cell_type": "code",
      "execution_count": null,
      "metadata": {
        "id": "lPh2dcmXr9-O"
      },
      "outputs": [],
      "source": [
        "# Change directory to /content/\n",
        "%cd /content/\n",
        "\n",
        "# Remove any existing LLaMA-Factory directory\n",
        "%rm -rf LLaMA-Factory\n",
        "\n",
        "# Clone the LLaMA-Factory repository\n",
        "!git clone --depth 1 https://github.com/hiyouga/LLaMA-Factory.git\n",
        "\n",
        "# Change directory to the LLaMA-Factory directory\n",
        "%cd LLaMA-Factory\n",
        "\n",
        "# List files in the directory\n",
        "%ls\n",
        "\n",
        "# Install required PyTorch and other dependencies\n",
        "!pip install torch==2.3.1 torchvision==0.18.1 torchaudio==2.3.1\n",
        "\n",
        "# Uninstall JAX (optional, in case you don't need it)\n",
        "!pip uninstall -y jax\n",
        "\n",
        "# Install LLaMA-Factory with extras for torch, bitsandbytes, and liger-kernel\n",
        "!pip install -e .[torch,bitsandbytes,liger-kernel]"
      ]
    },
    {
      "cell_type": "code",
      "source": [
        "# Check the available GPU using NVIDIA System Management Interface (nvidia-smi)\n",
        "!nvidia-smi"
      ],
      "metadata": {
        "id": "wX86Z92tsuzy"
      },
      "execution_count": null,
      "outputs": []
    },
    {
      "cell_type": "markdown",
      "source": [
        "# Add New Dataset Information"
      ],
      "metadata": {
        "id": "330NeoK1s6yu"
      }
    },
    {
      "cell_type": "code",
      "source": [
        "import json\n",
        "\n",
        "# Load the existing dataset info JSON file\n",
        "with open('/content/LLaMA-Factory/data/dataset_info.json', 'r') as file:\n",
        "    data = json.load(file)\n",
        "\n",
        "# Define new data to add to the dataset_info\n",
        "new_data = {\n",
        "    \"math_dataset\": {\n",
        "        \"hf_hub_url\": \"microsoft/orca-math-word-problems-200k\",\n",
        "        \"columns\": {\n",
        "            \"query\": \"question\",\n",
        "            \"response\": \"answer\"\n",
        "        }\n",
        "    }\n",
        "}\n",
        "\n",
        "# Add the new data to the existing data\n",
        "data.update(new_data)\n",
        "\n",
        "# Write the updated data back to the JSON file\n",
        "with open('/content/LLaMA-Factory/data/dataset_info.json', 'w') as file:\n",
        "    json.dump(data, file, indent=4)\n",
        "\n",
        "print(\"Data added successfully!\")"
      ],
      "metadata": {
        "colab": {
          "base_uri": "https://localhost:8080/"
        },
        "id": "0GAX7dA9s4Sm",
        "outputId": "52dae4e3-9c02-4c56-d151-a7708ded46dd"
      },
      "execution_count": 3,
      "outputs": [
        {
          "output_type": "stream",
          "name": "stdout",
          "text": [
            "Data added successfully!\n"
          ]
        }
      ]
    },
    {
      "cell_type": "markdown",
      "source": [
        "# Fine-tune Model via LLaMA Board"
      ],
      "metadata": {
        "id": "kVPT-2VctBKz"
      }
    },
    {
      "cell_type": "code",
      "source": [
        "# Log in to Hugging Face using the Hugging Face token stored in Google Colab user data\n",
        "from huggingface_hub import login\n",
        "from google.colab import userdata\n",
        "\n",
        "# Get the Hugging Face token (assumed to be stored in Colab's user data)\n",
        "hf_token = userdata.get(\"HUGGINGFACE_TOKEN\")\n",
        "login(token=hf_token)"
      ],
      "metadata": {
        "id": "FMl5jtOFtBeE"
      },
      "execution_count": null,
      "outputs": []
    },
    {
      "cell_type": "code",
      "source": [
        "# Change directory to LLaMA-Factory\n",
        "%cd /content/LLaMA-Factory/\n",
        "\n",
        "# Launch LLaMA Factory's WebUI for fine-tuning, with GRADIO_SHARE=1 for public sharing\n",
        "!GRADIO_SHARE=1 llamafactory-cli webui"
      ],
      "metadata": {
        "id": "yxo_ZwHTtHIU"
      },
      "execution_count": 11,
      "outputs": []
    }
  ]
}